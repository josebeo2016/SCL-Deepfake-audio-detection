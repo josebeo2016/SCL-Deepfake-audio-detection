{
 "cells": [
  {
   "cell_type": "code",
   "execution_count": 1,
   "metadata": {},
   "outputs": [],
   "source": [
    "import torch\n",
    "import torchvision.transforms as tvt\n",
    "from torch.utils.data import DataLoader\n",
    "from tqdm import tqdm\n",
    "import shutil\n",
    "import pandas as pd\n",
    "import numpy as np\n",
    "import os\n",
    "torch.manual_seed(1234)\n",
    "from evaluate_metrics import compute_eer\n",
    "import matplotlib.pyplot as plt\n",
    "from sklearn.metrics import confusion_matrix, ConfusionMatrixDisplay"
   ]
  },
  {
   "cell_type": "markdown",
   "metadata": {},
   "source": [
    "## ASVspoof2019 eval"
   ]
  },
  {
   "cell_type": "code",
   "execution_count": 2,
   "metadata": {},
   "outputs": [
    {
     "data": {
      "text/plain": [
       "<bound method NDFrame.head of            sid           utt phy attack     label\n",
       "23092  LA_0039  LA_E_2834763   -    A11     spoof\n",
       "23093  LA_0014  LA_E_8877452   -    A14     spoof\n",
       "23094  LA_0040  LA_E_6828287   -    A16     spoof\n",
       "23095  LA_0022  LA_E_6977360   -    A09     spoof\n",
       "23096  LA_0031  LA_E_5932896   -    A13     spoof\n",
       "...        ...           ...  ..    ...       ...\n",
       "94324  LA_0004  LA_E_1665632   -      -  bonafide\n",
       "94325  LA_0038  LA_E_5085671   -    A09     spoof\n",
       "94326  LA_0012  LA_E_4926022   -    A16     spoof\n",
       "94327  LA_0052  LA_E_2894498   -      -  bonafide\n",
       "94328  LA_0009  LA_E_4689563   -    A19     spoof\n",
       "\n",
       "[71237 rows x 5 columns]>"
      ]
     },
     "execution_count": 2,
     "metadata": {},
     "output_type": "execute_result"
    }
   ],
   "source": [
    "# load dev set\n",
    "eval_df = pd.read_csv(\"DATA/asvspoof_2019_supcon/protocol.txt\", sep=\" \", header=None)\n",
    "eval_df.columns = [\"sid\", \"utt\",\"phy\", \"attack\", \"label\"]\n",
    "eval_df = eval_df[eval_df['utt'].str.contains(\"LA_E\")]\n",
    "eval_df.head\n"
   ]
  },
  {
   "cell_type": "markdown",
   "metadata": {},
   "source": [
    "### conf-3"
   ]
  },
  {
   "cell_type": "code",
   "execution_count": 6,
   "metadata": {},
   "outputs": [
    {
     "name": "stdout",
     "output_type": "stream",
     "text": [
      "EER: 2.8837%, threshold: -0.0017\n"
     ]
    },
    {
     "data": {
      "image/png": "[encoded data removed]",
      "text/plain": [
       "<Figure size 432x288 with 2 Axes>"
      ]
     },
     "metadata": {
      "needs_background": "light"
     },
     "output_type": "display_data"
    }
   ],
   "source": [
    "pred_df = pd.read_csv(\"docs/asvspoof2019_conf-3.txt\", sep=\" \", header=None)\n",
    "pred_df.columns = [\"utt\", \"score\",\"pred\"]\n",
    "\n",
    "pred_df['pred'] = pred_df['pred'].apply(lambda x: 'bonafide' if x == 1 else 'spoof')\n",
    "# pred_df['pred'] = pred_df['score'].apply(lambda x: 'spoof' if x < threshold else 'bonafide')\n",
    "pred_df['utt'] = pred_df['utt'].apply(lambda x: x.split('.')[0])\n",
    "pred_df.head\n",
    "# merge eval_df and pred_df on utt\n",
    "res_df = pd.merge(eval_df, pred_df, on='utt')\n",
    "\n",
    "# compute EER\n",
    "spoof_scores = res_df[res_df['label'] == 'spoof']['score']\n",
    "bonafide_scores = res_df[res_df['label'] == 'bonafide']['score']\n",
    "eer, threshold = compute_eer(bonafide_scores, spoof_scores)\n",
    "print(\"EER: {:.4f}%, threshold: {:.4f}\".format(eer*100, threshold))\n",
    "res_df['pred'] = res_df['score'].apply(lambda x: 'spoof' if x < threshold else 'bonafide')\n",
    "# confusion matrix\n",
    "cm = confusion_matrix(res_df[\"label\"], res_df[\"pred\"], labels=[\"spoof\",\"bonafide\"])\n",
    "disp = ConfusionMatrixDisplay(confusion_matrix=cm, display_labels=[\"spoof\",\"bonafide\"])\n",
    "disp.plot(cmap='Greens', values_format='g')\n",
    "plt.title(\"docs/asvspoof2019_conf-3.txt\")\n",
    "# plt.savefig(\"figs/ori_assl_cm.png\", dpi=300)\n",
    "plt.show()\n"
   ]
  },
  {
   "cell_type": "code",
   "execution_count": 8,
   "metadata": {},
   "outputs": [
    {
     "name": "stdout",
     "output_type": "stream",
     "text": [
      "-0.0007096394547261 -7.467826843261719\n"
     ]
    },
    {
     "data": {
      "image/png": "[encoded data removed]",
      "text/plain": [
       "<Figure size 216x216 with 1 Axes>"
      ]
     },
     "metadata": {
      "needs_background": "light"
     },
     "output_type": "display_data"
    }
   ],
   "source": [
    "import matplotlib.pyplot as plt\n",
    "import numpy as np\n",
    "\n",
    "max_score = max(res_df['score'])\n",
    "min_score = min(res_df['score'])\n",
    "print(max_score, min_score)\n",
    "\n",
    "plt.figure(figsize=(3, 3))\n",
    "bona = res_df[(res_df['label'] == 'bonafide')]['score']\n",
    "spoof = res_df[(res_df['label'] == 'spoof')]['score']\n",
    "\n",
    "# Plotting the distributions as line chart histograms\n",
    "plt.hist(bona, bins=100, density=True, cumulative=False, histtype='step', linewidth=1.5, label='Bonafide')\n",
    "plt.hist(spoof, bins=100, density=True, cumulative=False, histtype='step', linewidth=1.5, label='Spoofing')\n",
    "\n",
    "\n",
    "# Adding labels and title\n",
    "plt.xlabel('Scores')\n",
    "# plt.ylabel('score probability density plot')\n",
    "plt.title('EER = {:.2f}%'.format(eer*100))\n",
    "\n",
    "# yaxis logit scale\n",
    "plt.yscale('symlog')\n",
    "\n",
    "# Adding a legend\n",
    "# plt.legend(loc='lower right')\n",
    "# Adding vertical lines\n",
    "plt.axvline(x=threshold, color='g', linestyle='--', linewidth=1)\n",
    "\n",
    "# Set the x-axis tick positions and labels\n",
    "plt.xticks([min_score-1, max_score+1])\n",
    "plt.yticks([])\n",
    "plt.ylim(0,5)\n",
    "plt.rcParams.update({'font.size': 16})\n",
    "# Displaying the plot\n",
    "plt.show()\n"
   ]
  },
  {
   "cell_type": "markdown",
   "metadata": {},
   "source": [
    "## ASVspoof 2021 DF"
   ]
  },
  {
   "cell_type": "code",
   "execution_count": 4,
   "metadata": {},
   "outputs": [
    {
     "data": {
      "text/plain": [
       "<bound method NDFrame.head of             sid           utt     codec       src        attack  label  \\\n",
       "0       LA_0023  DF_E_2000011   nocodec  asvspoof           A14  spoof   \n",
       "1          TEF2  DF_E_2000013   low_m4a   vcc2020  Task1-team20  spoof   \n",
       "2          TGF1  DF_E_2000024    mp3m4a   vcc2020  Task2-team12  spoof   \n",
       "3       LA_0043  DF_E_2000026    mp3m4a  asvspoof           A09  spoof   \n",
       "4       LA_0021  DF_E_2000027    mp3m4a  asvspoof           A12  spoof   \n",
       "...         ...           ...       ...       ...           ...    ...   \n",
       "611824  VCC2TM2  DF_E_4999945    oggm4a   vcc2018       SPO-N16  spoof   \n",
       "611825  LA_0044  DF_E_4999962    oggm4a  asvspoof           A19  spoof   \n",
       "611826  LA_0042  DF_E_4999964  high_ogg  asvspoof           A13  spoof   \n",
       "611827     TEM1  DF_E_4999980   low_m4a   vcc2020  Task1-team07  spoof   \n",
       "611828     TGF1  DF_E_4999993    mp3m4a   vcc2020  Task2-team33  spoof   \n",
       "\n",
       "          trim    subset                           vocoder      b       c   d  \\\n",
       "0       notrim  progress               traditional_vocoder      -       -   -   \n",
       "1       notrim      eval  neural_vocoder_nonautoregressive  Task1  team20  FF   \n",
       "2       notrim      eval               traditional_vocoder  Task2  team12  FF   \n",
       "3       notrim      eval               traditional_vocoder      -       -   -   \n",
       "4       notrim      eval     neural_vocoder_autoregressive      -       -   -   \n",
       "...        ...       ...                               ...    ...     ...  ..   \n",
       "611824  notrim      eval               traditional_vocoder    SPO     N16  FM   \n",
       "611825    trim    hidden               traditional_vocoder      -       -   -   \n",
       "611826  notrim      eval               traditional_vocoder      -       -   -   \n",
       "611827  notrim      eval     neural_vocoder_autoregressive  Task1  team07  FM   \n",
       "611828  notrim      eval  neural_vocoder_nonautoregressive  Task2  team33  MF   \n",
       "\n",
       "        e  \n",
       "0       -  \n",
       "1       E  \n",
       "2       G  \n",
       "3       -  \n",
       "4       -  \n",
       "...    ..  \n",
       "611824  -  \n",
       "611825  -  \n",
       "611826  -  \n",
       "611827  E  \n",
       "611828  G  \n",
       "\n",
       "[611829 rows x 13 columns]>"
      ]
     },
     "execution_count": 4,
     "metadata": {},
     "output_type": "execute_result"
    }
   ],
   "source": [
    "# load DF 2021 set\n",
    "DF_df = pd.read_csv(\"DATA/asvspoof_2021_DF/trial_metadata.txt\", sep=\" \", header=None)\n",
    "DF_df.columns = [\"sid\", \"utt\",\"codec\", \"src\", \"attack\", \"label\", \"trim\", \"subset\",\"vocoder\",\"b\",\"c\",\"d\",\"e\"]\n",
    "\n",
    "DF_df.head\n"
   ]
  },
  {
   "cell_type": "markdown",
   "metadata": {},
   "source": [
    "### conf-3\n"
   ]
  },
  {
   "cell_type": "code",
   "execution_count": 5,
   "metadata": {},
   "outputs": [
    {
     "name": "stdout",
     "output_type": "stream",
     "text": [
      "EER: 2.1730%, threshold: -2.4381\n"
     ]
    },
    {
     "data": {
      "image/png": "[encoded data removed]",
      "text/plain": [
       "<Figure size 432x288 with 2 Axes>"
      ]
     },
     "metadata": {
      "needs_background": "light"
     },
     "output_type": "display_data"
    }
   ],
   "source": [
    "\n",
    "pred_df = pd.read_csv(\"docs/df2021_conf-3.txt\", sep=\" \", header=None)\n",
    "pred_df.columns = [\"utt\", \"score\",\"pred\"]\n",
    "\n",
    "pred_df['pred'] = pred_df['pred'].apply(lambda x: 'bonafide' if x == 1 else 'spoof')\n",
    "# pred_df['pred'] = pred_df['score'].apply(lambda x: 'spoof' if x < threshold else 'bonafide')\n",
    "pred_df['utt'] = pred_df['utt'].apply(lambda x: x.split('.')[0].split('/')[-1])\n",
    "pred_df.head\n",
    "# merge eval_df and pred_df on utt\n",
    "res_df = pd.merge(DF_df, pred_df, on='utt')\n",
    "\n",
    "# filter res_df as subset = ['eval', 'hidden']\n",
    "res_df = res_df[res_df['subset'] == 'eval']\n",
    "\n",
    "# compute EER\n",
    "spoof_scores = res_df[res_df['label'] == 'spoof']['score']\n",
    "bonafide_scores = res_df[res_df['label'] == 'bonafide']['score']\n",
    "eer, threshold = compute_eer(bonafide_scores, spoof_scores)\n",
    "print(\"EER: {:.4f}%, threshold: {:.4f}\".format(eer*100, threshold))\n",
    "res_df['pred'] = res_df['score'].apply(lambda x: 'spoof' if x < threshold else 'bonafide')\n",
    "\n",
    "# confusion matrix\n",
    "cm = confusion_matrix(res_df[\"label\"], res_df[\"pred\"], labels=[\"spoof\",\"bonafide\"])\n",
    "disp = ConfusionMatrixDisplay(confusion_matrix=cm, display_labels=[\"spoof\",\"bonafide\"])\n",
    "disp.plot(cmap='Greens', values_format='g')\n",
    "plt.title(\"docs/df2021_conf-3.txt\")\n",
    "# plt.savefig(\"figs/ori_assl_cm.png\", dpi=300)\n",
    "plt.show()"
   ]
  },
  {
   "cell_type": "markdown",
   "metadata": {},
   "source": [
    "## In The Wild"
   ]
  },
  {
   "cell_type": "code",
   "execution_count": 9,
   "metadata": {},
   "outputs": [
    {
     "data": {
      "text/plain": [
       "<bound method NDFrame.head of                  utt subset     label\n",
       "0          wav/1.wav   eval     spoof\n",
       "1          wav/2.wav   eval     spoof\n",
       "2          wav/3.wav   eval     spoof\n",
       "3          wav/4.wav   eval  bonafide\n",
       "4          wav/5.wav   eval  bonafide\n",
       "...              ...    ...       ...\n",
       "31773  wav/31774.wav   eval  bonafide\n",
       "31774  wav/31775.wav   eval  bonafide\n",
       "31775  wav/31776.wav   eval  bonafide\n",
       "31776  wav/31777.wav   eval  bonafide\n",
       "31777  wav/31778.wav   eval     spoof\n",
       "\n",
       "[31778 rows x 3 columns]>"
      ]
     },
     "execution_count": 9,
     "metadata": {},
     "output_type": "execute_result"
    }
   ],
   "source": [
    "# load in the wild protocol\n",
    "in_the_wild = pd.read_csv(\"DATA/in_the_wild/protocol.txt\", sep=\" \", header=None)\n",
    "in_the_wild.columns = ['utt', 'subset', 'label']\n",
    "in_the_wild.head"
   ]
  },
  {
   "cell_type": "markdown",
   "metadata": {},
   "source": [
    "### conf-3"
   ]
  },
  {
   "cell_type": "code",
   "execution_count": 10,
   "metadata": {},
   "outputs": [
    {
     "name": "stdout",
     "output_type": "stream",
     "text": [
      "EER: 4.5098%, threshold: -2.0041\n"
     ]
    },
    {
     "data": {
      "image/png": "[encoded data removed]",
      "text/plain": [
       "<Figure size 432x288 with 2 Axes>"
      ]
     },
     "metadata": {
      "needs_background": "light"
     },
     "output_type": "display_data"
    }
   ],
   "source": [
    "pred_df = pd.read_csv(\"docs/inwild_conf-3.txt\", sep=\" \", header=None)\n",
    "pred_df.columns = [\"utt\", \"score\",\"pred\"]\n",
    "\n",
    "pred_df['pred'] = pred_df['pred'].apply(lambda x: 'bonafide' if x == 1 else 'spoof')\n",
    "# pred_df['pred'] = pred_df['score'].apply(lambda x: 'spoof' if x < threshold else 'bonafide')\n",
    "pred_df.head\n",
    "# merge eval_df and pred_df on utt\n",
    "res_df = pd.merge(in_the_wild, pred_df, on='utt')\n",
    "# print(res_df.head)\n",
    "# compute EER\n",
    "spoof_scores = res_df[res_df['label'] == 'spoof']['score']\n",
    "bonafide_scores = res_df[res_df['label'] == 'bonafide']['score']\n",
    "eer, threshold = compute_eer(bonafide_scores, spoof_scores)\n",
    "print(\"EER: {:.4f}%, threshold: {:.4f}\".format(eer*100, threshold))\n",
    "res_df['pred'] = res_df['score'].apply(lambda x: 'spoof' if x < threshold else 'bonafide')\n",
    "\n",
    "\n",
    "# confusion matrix\n",
    "cm = confusion_matrix(res_df[\"label\"], res_df[\"pred\"], labels=[\"spoof\",\"bonafide\"])\n",
    "disp = ConfusionMatrixDisplay(confusion_matrix=cm, display_labels=[\"spoof\",\"bonafide\"])\n",
    "disp.plot(cmap='Greens', values_format='g')\n",
    "plt.title(\"docs/inwild_conf-3.txt\")\n",
    "# plt.savefig(\"figs/ori_assl_cm.png\", dpi=300)\n",
    "plt.show()"
   ]
  }
 ],
 "metadata": {
  "kernelspec": {
   "display_name": "bio",
   "language": "python",
   "name": "python3"
  },
  "language_info": {
   "codemirror_mode": {
    "name": "ipython",
    "version": 3
   },
   "file_extension": ".py",
   "mimetype": "text/x-python",
   "name": "python",
   "nbconvert_exporter": "python",
   "pygments_lexer": "ipython3",
   "version": "3.9.12"
  },
  "orig_nbformat": 4
 },
 "nbformat": 4,
 "nbformat_minor": 2
}
